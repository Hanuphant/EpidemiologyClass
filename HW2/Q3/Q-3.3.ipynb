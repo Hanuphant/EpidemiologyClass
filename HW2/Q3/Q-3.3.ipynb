{
 "cells": [
  {
   "cell_type": "code",
   "execution_count": 1,
   "metadata": {},
   "outputs": [],
   "source": [
    "# Imports\n",
    "\n",
    "import networkx as nx\n",
    "from EoN import fast_SIS, subsample\n",
    "import matplotlib.pyplot as plt\n",
    "import math\n",
    "import numpy as np\n",
    "from tqdm import tqdm"
   ]
  },
  {
   "cell_type": "code",
   "execution_count": 2,
   "metadata": {},
   "outputs": [],
   "source": [
    "# Load the Caylee graph\n",
    "G = nx.read_edgelist('cayley.txt', nodetype=int)\n",
    "\n",
    "# SIS Parameters default \n",
    "b = 0.2\n",
    "g = 0\n",
    "maxTime = 10\n",
    "maxIter = 100"
   ]
  },
  {
   "cell_type": "code",
   "execution_count": 3,
   "metadata": {},
   "outputs": [
    {
     "name": "stderr",
     "output_type": "stream",
     "text": [
      "100%|██████████| 100/100 [00:00<00:00, 1745.65it/s]\n"
     ]
    }
   ],
   "source": [
    "# For maxIter iterations, run SIS model and store the infected nodes\n",
    "# Store the results in a file \n",
    "with open('Q-3.3.Results.txt', 'a') as f:\n",
    "    for range in tqdm(range(maxIter)):\n",
    "        # Implement SIS\n",
    "        res = fast_SIS(G, b, g, return_full_data=True, initial_infecteds=[1], tmax=maxTime)\n",
    "        # Extract the infected nodes\n",
    "        for key in res.get_statuses(time=maxTime).keys():\n",
    "            # If the node is infected, write it to the file\n",
    "            if res.get_statuses(time=maxTime)[key] == 'I':\n",
    "                f.write(str(key) + ' ')\n",
    "        # Write a new line to the file\n",
    "        f.write('\\n')"
   ]
  },
  {
   "cell_type": "code",
   "execution_count": 7,
   "metadata": {},
   "outputs": [
    {
     "name": "stderr",
     "output_type": "stream",
     "text": [
      "100%|██████████| 100/100 [00:00<00:00, 2488.99it/s]"
     ]
    },
    {
     "name": "stdout",
     "output_type": "stream",
     "text": [
      "Accuracy:  69.0\n"
     ]
    },
    {
     "name": "stderr",
     "output_type": "stream",
     "text": [
      "\n"
     ]
    }
   ],
   "source": [
    "# Read the infected nodes from the file\n",
    "f = open('Q-3.3.Results.txt', 'r')\n",
    "graphlets = f.readlines()\n",
    "# Counter for the times predicted correctly\n",
    "correct = 0\n",
    "\n",
    "'''# Choosing a random set of infected nodes to start with\n",
    "random_index = np.random.randint(0, len(graphlets))'''\n",
    "\n",
    "for graphlet in tqdm(graphlets):\n",
    "    subgraphnodes = graphlet.strip().split(' ')\n",
    "    subgraphnodes = [int(i) for i in subgraphnodes]\n",
    "    # Create a subgraph from the Caylee tree\n",
    "    subG = G.subgraph(subgraphnodes)\n",
    "    # Find the center of the subgraph\n",
    "    center = nx.center(subG)\n",
    "    # Check for center\n",
    "    if 0 in center:\n",
    "        correct += 1\n",
    "\n",
    "# Print the accuracy\n",
    "print('Accuracy: ', correct*100/len(graphlets))"
   ]
  }
 ],
 "metadata": {
  "kernelspec": {
   "display_name": "Python 3.10.4 ('cse8803e')",
   "language": "python",
   "name": "python3"
  },
  "language_info": {
   "codemirror_mode": {
    "name": "ipython",
    "version": 3
   },
   "file_extension": ".py",
   "mimetype": "text/x-python",
   "name": "python",
   "nbconvert_exporter": "python",
   "pygments_lexer": "ipython3",
   "version": "3.10.4"
  },
  "orig_nbformat": 4,
  "vscode": {
   "interpreter": {
    "hash": "52eb2e9aaa251fce06a7cb4186eb453f8b8c61cf125fe552a335749f5f35aeba"
   }
  }
 },
 "nbformat": 4,
 "nbformat_minor": 2
}
