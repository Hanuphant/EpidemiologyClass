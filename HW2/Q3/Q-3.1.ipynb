{
 "cells": [
  {
   "cell_type": "code",
   "execution_count": 74,
   "metadata": {},
   "outputs": [],
   "source": [
    "import networkx as nx\n",
    "from EoN import fast_SIS, subsample\n",
    "import matplotlib.pyplot as plt\n",
    "import math\n",
    "import numpy as np\n",
    "from tqdm import tqdm"
   ]
  },
  {
   "cell_type": "code",
   "execution_count": 75,
   "metadata": {},
   "outputs": [],
   "source": [
    "# Load the Caylee graph\n",
    "G = nx.read_edgelist('cayley.txt', nodetype=int)"
   ]
  },
  {
   "cell_type": "code",
   "execution_count": 76,
   "metadata": {},
   "outputs": [],
   "source": [
    "# SIS Parameters default \n",
    "b = 0.2\n",
    "g = 0\n",
    "maxTime = 10\n",
    "maxIter = 100"
   ]
  },
  {
   "cell_type": "code",
   "execution_count": 77,
   "metadata": {},
   "outputs": [],
   "source": [
    "# For maxIter iterations, run SIS model and store the infected nodes\n",
    "# Store the results in a file \n",
    "with open('Q-3.1.Results.txt', 'a') as f:\n",
    "    for range in tqdm(range(maxIter)):\n",
    "        # Implement SIS\n",
    "        res = fast_SIS(G, b, g, return_full_data=True, initial_infecteds=[0], tmax=maxTime)\n",
    "        # Extract the infected nodes\n",
    "        for key in res.get_statuses(time=maxTime).keys():\n",
    "            # If the node is infected, write it to the file\n",
    "            if res.get_statuses(time=maxTime)[key] == 'I':\n",
    "                f.write(str(key) + ' ')\n",
    "        # Write a new line to the file\n",
    "        f.write('\\n')"
   ]
  }
 ],
 "metadata": {
  "kernelspec": {
   "display_name": "Python 3.10.4 ('cse8803e')",
   "language": "python",
   "name": "python3"
  },
  "language_info": {
   "codemirror_mode": {
    "name": "ipython",
    "version": 3
   },
   "file_extension": ".py",
   "mimetype": "text/x-python",
   "name": "python",
   "nbconvert_exporter": "python",
   "pygments_lexer": "ipython3",
   "version": "3.10.4"
  },
  "orig_nbformat": 4,
  "vscode": {
   "interpreter": {
    "hash": "52eb2e9aaa251fce06a7cb4186eb453f8b8c61cf125fe552a335749f5f35aeba"
   }
  }
 },
 "nbformat": 4,
 "nbformat_minor": 2
}
