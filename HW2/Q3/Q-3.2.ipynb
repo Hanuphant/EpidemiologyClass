{
 "cells": [
  {
   "cell_type": "code",
   "execution_count": 14,
   "metadata": {},
   "outputs": [],
   "source": [
    "# Imports\n",
    "import numpy as np\n",
    "import matplotlib.pyplot as plt\n",
    "import pandas as pd\n",
    "import networkx as nx\n",
    "from EoN import fast_SIS\n",
    "from tqdm import tqdm"
   ]
  },
  {
   "cell_type": "code",
   "execution_count": 15,
   "metadata": {},
   "outputs": [
    {
     "name": "stderr",
     "output_type": "stream",
     "text": [
      "100%|██████████| 100/100 [00:00<00:00, 1894.41it/s]"
     ]
    },
    {
     "name": "stdout",
     "output_type": "stream",
     "text": [
      "Accuracy:  91.0\n"
     ]
    },
    {
     "name": "stderr",
     "output_type": "stream",
     "text": [
      "\n"
     ]
    }
   ],
   "source": [
    "# Load the Caylee tree\n",
    "G = nx.read_edgelist('cayley.txt', nodetype=int)\n",
    "# Read the infected nodes from the file\n",
    "f = open('Q-3.1.Results.txt', 'r')\n",
    "graphlets = f.readlines()\n",
    "# Counter for the times predicted correctly\n",
    "correct = 0\n",
    "\n",
    "'''# Choosing a random set of infected nodes to start with\n",
    "random_index = np.random.randint(0, len(graphlets))'''\n",
    "\n",
    "for graphlet in tqdm(graphlets):\n",
    "    subgraphnodes = graphlet.strip().split(' ')\n",
    "    subgraphnodes = [int(i) for i in subgraphnodes]\n",
    "    # Create a subgraph from the Caylee tree\n",
    "    subG = G.subgraph(subgraphnodes)\n",
    "    # Find the center of the subgraph\n",
    "    center = nx.center(subG)\n",
    "    # Check for center\n",
    "    if 0 in center:\n",
    "        correct += 1\n",
    "\n",
    "# Print the accuracy\n",
    "print('Accuracy: ', correct*100/len(graphlets))\n"
   ]
  }
 ],
 "metadata": {
  "kernelspec": {
   "display_name": "Python 3.10.4 ('cse8803e')",
   "language": "python",
   "name": "python3"
  },
  "language_info": {
   "codemirror_mode": {
    "name": "ipython",
    "version": 3
   },
   "file_extension": ".py",
   "mimetype": "text/x-python",
   "name": "python",
   "nbconvert_exporter": "python",
   "pygments_lexer": "ipython3",
   "version": "3.10.4"
  },
  "orig_nbformat": 4,
  "vscode": {
   "interpreter": {
    "hash": "52eb2e9aaa251fce06a7cb4186eb453f8b8c61cf125fe552a335749f5f35aeba"
   }
  }
 },
 "nbformat": 4,
 "nbformat_minor": 2
}
