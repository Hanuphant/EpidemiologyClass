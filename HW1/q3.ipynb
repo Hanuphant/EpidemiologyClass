{
 "cells": [
  {
   "cell_type": "code",
   "execution_count": 26,
   "metadata": {},
   "outputs": [],
   "source": [
    "import numpy as np\n",
    "import pandas as pd\n",
    "import matplotlib.pyplot as plt"
   ]
  },
  {
   "cell_type": "code",
   "execution_count": 20,
   "metadata": {},
   "outputs": [],
   "source": [
    "# load network.txt\n",
    "edges = []\n",
    "with open('network.txt') as f:\n",
    "    for line in f:\n",
    "        edges.append([int(u) for u in line.split()])\n",
    "\n",
    "# create adjacency matrix\n",
    "n = max(max(u) for u in edges)\n",
    "A = np.zeros((n, n))\n",
    "for u, v in edges:\n",
    "    A[u-1, v-1] = 1"
   ]
  },
  {
   "cell_type": "code",
   "execution_count": 21,
   "metadata": {},
   "outputs": [],
   "source": [
    "# load Ratings.timed.csv\n",
    "ratings = pd.read_csv('Ratings.timed.csv')\n"
   ]
  },
  {
   "cell_type": "code",
   "execution_count": 22,
   "metadata": {},
   "outputs": [],
   "source": [
    "def find_probability(v, u):\n",
    "    # find the probability of v being infected by u\n",
    "    # v and u are indices of the nodes\n",
    "    # return a float\n",
    "    \n",
    "    if A[v-1,u-1] == 0:\n",
    "        return 0\n",
    "    elif len(ratings[ratings['userid'] == v]) == 0:\n",
    "        return 0\n",
    "    else:\n",
    "        # merge the two dataframes such that v action  = u action and v time < u time\n",
    "        df = pd.merge(ratings[ratings['userid'] == v], ratings[ratings['userid'] == u], on = 'movieid', how = 'inner')\n",
    "        df = df[df['date_x'] < df['date_y']]\n",
    "        # calculate the probability\n",
    "        return len(df)/len(ratings[ratings['userid'] == v]) # A_vu/A_v\n"
   ]
  },
  {
   "cell_type": "code",
   "execution_count": 23,
   "metadata": {},
   "outputs": [],
   "source": [
    "# find the probability of each edge\n",
    "output = []\n",
    "for u, v in edges:\n",
    "    probability = find_probability(u,v)\n",
    "    output.append([u, v, probability])\n",
    "\n",
    "# save the output\n",
    "with open('output.txt', 'w') as f:\n",
    "    for u, v, probability in output:\n",
    "        f.write('{} {} {}\\n'.format(u, v, probability))"
   ]
  },
  {
   "cell_type": "code",
   "execution_count": 25,
   "metadata": {},
   "outputs": [
    {
     "ename": "NameError",
     "evalue": "name 'plt' is not defined",
     "output_type": "error",
     "traceback": [
      "\u001b[0;31m---------------------------------------------------------------------------\u001b[0m",
      "\u001b[0;31mNameError\u001b[0m                                 Traceback (most recent call last)",
      "\u001b[1;32m/home/abadugu6/PythonProjects/shreyash_hws/epi/hw1/datasets/q3/q3.ipynb Cell 6\u001b[0m in \u001b[0;36m<cell line: 10>\u001b[0;34m()\u001b[0m\n\u001b[1;32m      <a href='vscode-notebook-cell://wsl%2Bubuntu/home/abadugu6/PythonProjects/shreyash_hws/epi/hw1/datasets/q3/q3.ipynb#W5sdnNjb2RlLXJlbW90ZQ%3D%3D?line=6'>7</a>\u001b[0m degrees \u001b[39m=\u001b[39m np\u001b[39m.\u001b[39msum(P, axis\u001b[39m=\u001b[39m\u001b[39m1\u001b[39m)\n\u001b[1;32m      <a href='vscode-notebook-cell://wsl%2Bubuntu/home/abadugu6/PythonProjects/shreyash_hws/epi/hw1/datasets/q3/q3.ipynb#W5sdnNjb2RlLXJlbW90ZQ%3D%3D?line=8'>9</a>\u001b[0m \u001b[39m# draw histogram of node degrees using numpy.histogram\u001b[39;00m\n\u001b[0;32m---> <a href='vscode-notebook-cell://wsl%2Bubuntu/home/abadugu6/PythonProjects/shreyash_hws/epi/hw1/datasets/q3/q3.ipynb#W5sdnNjb2RlLXJlbW90ZQ%3D%3D?line=9'>10</a>\u001b[0m plt\u001b[39m.\u001b[39mhist(degrees, bins\u001b[39m=\u001b[39m\u001b[39m100\u001b[39m)\n",
      "\u001b[0;31mNameError\u001b[0m: name 'plt' is not defined"
     ]
    }
   ],
   "source": [
    "# store the probabilities in adjacency matrix\n",
    "P = np.zeros((n, n))\n",
    "for u, v in edges:\n",
    "    P[u-1, v-1] = find_probability(u,v)\n",
    "\n",
    "# find node degrees\n",
    "degrees = np.sum(P, axis=1)\n",
    "\n"
   ]
  },
  {
   "cell_type": "code",
   "execution_count": 28,
   "metadata": {},
   "outputs": [
    {
     "data": {
      "text/plain": [
       "(array([9.871e+03, 6.300e+01, 1.200e+01, 3.700e+01, 2.000e+00, 1.000e+00,\n",
       "        2.000e+00, 3.000e+00, 2.000e+00, 0.000e+00, 3.000e+00, 0.000e+00,\n",
       "        1.000e+00, 0.000e+00, 1.000e+00, 1.000e+00, 0.000e+00, 0.000e+00,\n",
       "        0.000e+00, 0.000e+00, 0.000e+00, 0.000e+00, 0.000e+00, 0.000e+00,\n",
       "        0.000e+00, 0.000e+00, 0.000e+00, 0.000e+00, 0.000e+00, 0.000e+00,\n",
       "        0.000e+00, 0.000e+00, 0.000e+00, 0.000e+00, 0.000e+00, 0.000e+00,\n",
       "        0.000e+00, 0.000e+00, 0.000e+00, 0.000e+00, 0.000e+00, 0.000e+00,\n",
       "        0.000e+00, 0.000e+00, 0.000e+00, 0.000e+00, 0.000e+00, 0.000e+00,\n",
       "        0.000e+00, 0.000e+00, 0.000e+00, 0.000e+00, 0.000e+00, 0.000e+00,\n",
       "        0.000e+00, 0.000e+00, 0.000e+00, 0.000e+00, 0.000e+00, 0.000e+00,\n",
       "        0.000e+00, 0.000e+00, 0.000e+00, 0.000e+00, 0.000e+00, 0.000e+00,\n",
       "        0.000e+00, 0.000e+00, 0.000e+00, 0.000e+00, 0.000e+00, 0.000e+00,\n",
       "        0.000e+00, 0.000e+00, 0.000e+00, 0.000e+00, 0.000e+00, 0.000e+00,\n",
       "        0.000e+00, 0.000e+00, 0.000e+00, 0.000e+00, 0.000e+00, 0.000e+00,\n",
       "        0.000e+00, 0.000e+00, 0.000e+00, 0.000e+00, 0.000e+00, 0.000e+00,\n",
       "        0.000e+00, 0.000e+00, 0.000e+00, 0.000e+00, 0.000e+00, 0.000e+00,\n",
       "        0.000e+00, 0.000e+00, 0.000e+00, 1.000e+00]),\n",
       " array([ 0.  ,  0.28,  0.56,  0.84,  1.12,  1.4 ,  1.68,  1.96,  2.24,\n",
       "         2.52,  2.8 ,  3.08,  3.36,  3.64,  3.92,  4.2 ,  4.48,  4.76,\n",
       "         5.04,  5.32,  5.6 ,  5.88,  6.16,  6.44,  6.72,  7.  ,  7.28,\n",
       "         7.56,  7.84,  8.12,  8.4 ,  8.68,  8.96,  9.24,  9.52,  9.8 ,\n",
       "        10.08, 10.36, 10.64, 10.92, 11.2 , 11.48, 11.76, 12.04, 12.32,\n",
       "        12.6 , 12.88, 13.16, 13.44, 13.72, 14.  , 14.28, 14.56, 14.84,\n",
       "        15.12, 15.4 , 15.68, 15.96, 16.24, 16.52, 16.8 , 17.08, 17.36,\n",
       "        17.64, 17.92, 18.2 , 18.48, 18.76, 19.04, 19.32, 19.6 , 19.88,\n",
       "        20.16, 20.44, 20.72, 21.  , 21.28, 21.56, 21.84, 22.12, 22.4 ,\n",
       "        22.68, 22.96, 23.24, 23.52, 23.8 , 24.08, 24.36, 24.64, 24.92,\n",
       "        25.2 , 25.48, 25.76, 26.04, 26.32, 26.6 , 26.88, 27.16, 27.44,\n",
       "        27.72, 28.  ]),\n",
       " <BarContainer object of 100 artists>)"
      ]
     },
     "execution_count": 28,
     "metadata": {},
     "output_type": "execute_result"
    },
    {
     "data": {
      "image/png": "[encoded data removed]",
      "text/plain": [
       "<Figure size 432x288 with 1 Axes>"
      ]
     },
     "metadata": {
      "needs_background": "light"
     },
     "output_type": "display_data"
    }
   ],
   "source": [
    "# draw histogram of node degrees on log scale\n",
    "plt.hist(degrees, bins=100, log=True)"
   ]
  },
  {
   "cell_type": "code",
   "execution_count": null,
   "metadata": {},
   "outputs": [],
   "source": []
  }
 ],
 "metadata": {
  "kernelspec": {
   "display_name": "Python 3.10.4 ('cse8803e')",
   "language": "python",
   "name": "python3"
  },
  "language_info": {
   "codemirror_mode": {
    "name": "ipython",
    "version": 3
   },
   "file_extension": ".py",
   "mimetype": "text/x-python",
   "name": "python",
   "nbconvert_exporter": "python",
   "pygments_lexer": "ipython3",
   "version": "3.10.4"
  },
  "orig_nbformat": 4,
  "vscode": {
   "interpreter": {
    "hash": "52eb2e9aaa251fce06a7cb4186eb453f8b8c61cf125fe552a335749f5f35aeba"
   }
  }
 },
 "nbformat": 4,
 "nbformat_minor": 2
}
